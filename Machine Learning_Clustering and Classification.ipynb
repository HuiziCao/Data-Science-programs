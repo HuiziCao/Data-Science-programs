{
  "nbformat": 4,
  "nbformat_minor": 0,
  "metadata": {
    "colab": {
      "provenance": []
    },
    "kernelspec": {
      "name": "python3",
      "display_name": "Python 3"
    },
    "language_info": {
      "name": "python"
    }
  },
  "cells": [
    {
      "cell_type": "markdown",
      "source": [
        "## [Part 1]  NextStore: A data-driven system to predict the growth of Internet celebrity shop\n",
        "\n",
        "**Background**\n",
        "\n",
        "The Internet celebrity shop is a popular trend in every city all over the world. There are always some successful\n",
        "ones, while some shops struggle to survive. You need to find out what are the factors affecting the success of\n",
        "the shops, so that the owners can make more reasonable decisions.\n",
        "For this assignment, we will focus on [Boston Italian Restaurants](https://www.yelp.com/search?find_desc=Italian&find_loc=Boston%2C+MA%2C+United+States) and collect at least 20 data from Yelp. The data\n",
        "that we will collect will be the number of dollar $, number of violations in health score feature, good for groups,\n",
        "good for kids, pet/dog allowed, the number of reviews to predict the number of star ratings (note you can\n",
        "choose different data points, just make sure you have at least 6)"
      ],
      "metadata": {
        "id": "olVR9rs-wL03"
      }
    },
    {
      "cell_type": "markdown",
      "source": [
        "### Task 1: data collection\n",
        "\n",
        "Collect 20 data points from Yelp. Use the provided google form template\n",
        "\n",
        "\\* Note: 0 = No, 1 = Yes"
      ],
      "metadata": {
        "id": "EkL6_o67wV-v"
      }
    },
    {
      "cell_type": "code",
      "source": [
        "from google.colab import drive\n",
        "drive.mount('/content/drive')"
      ],
      "metadata": {
        "colab": {
          "base_uri": "https://localhost:8080/"
        },
        "id": "OggbYjkKM5FT",
        "outputId": "b8820da1-30d9-450d-ca33-93761b021df3"
      },
      "execution_count": 1,
      "outputs": [
        {
          "output_type": "stream",
          "name": "stdout",
          "text": [
            "Drive already mounted at /content/drive; to attempt to forcibly remount, call drive.mount(\"/content/drive\", force_remount=True).\n"
          ]
        }
      ]
    },
    {
      "cell_type": "code",
      "source": [
        "import os\n",
        "print(os.listdir('.'))"
      ],
      "metadata": {
        "colab": {
          "base_uri": "https://localhost:8080/"
        },
        "id": "2r_Y6DC6NMpU",
        "outputId": "04d9425e-6ea4-49b4-a059-b26bb6a15932"
      },
      "execution_count": 2,
      "outputs": [
        {
          "output_type": "stream",
          "name": "stdout",
          "text": [
            "['.config', 'MATRIX.TRAIN.1400', 'Italian Restaurant Data Template.xlsx', 'MATRIX.TEST', 'MATRIX.TRAIN', 'MATRIX.TRAIN.100', 'drive', 'MATRIX.TRAIN.800', 'MATRIX.TRAIN.50', 'MATRIX.TRAIN.400', 'Italian Restaurant Data Template_final.xlsx', 'MATRIX.TRAIN.200', 'Italian Restaurant Data Template_use.csv', 'sample_data']\n"
          ]
        }
      ]
    },
    {
      "cell_type": "markdown",
      "source": [
        "### Task 2: preprocessing\n",
        "\n",
        "Create a dataframe from the table you collected, separate the features and labels. You can apply any data preprocessing techniques if necessary, split the train and test sets (test_size = 1/5)."
      ],
      "metadata": {
        "id": "u81CLg2rwzXi"
      }
    },
    {
      "cell_type": "code",
      "source": [
        "import pandas as pd\n",
        "import numpy as np"
      ],
      "metadata": {
        "id": "LcUsUIkCyoTq"
      },
      "execution_count": 3,
      "outputs": []
    },
    {
      "cell_type": "code",
      "source": [
        "# TODO: establish a DataFrame from the form you collected\n",
        "from sklearn.model_selection import train_test_split\n",
        "csv_file_path = 'Italian Restaurant Data Template_final.xlsx'\n",
        "df = pd.read_excel(csv_file_path)\n",
        "df.head()\n",
        "df.columns\n"
      ],
      "metadata": {
        "id": "MxuWv48eyeGL",
        "colab": {
          "base_uri": "https://localhost:8080/"
        },
        "outputId": "5758bf9f-d6e4-4904-ac18-1a973689ec70"
      },
      "execution_count": 4,
      "outputs": [
        {
          "output_type": "execute_result",
          "data": {
            "text/plain": [
              "Index(['Dollars\\n(1-4)', 'Health score \\n(# violations)',\n",
              "       'Good for group (0-1)', 'Good for kids (0-1)', 'Pet/dog allowed(0-1)',\n",
              "       '# Reviews', 'Star rating\\n(1-5)', 'Name'],\n",
              "      dtype='object')"
            ]
          },
          "metadata": {},
          "execution_count": 4
        }
      ]
    },
    {
      "cell_type": "code",
      "source": [
        "# TODO: separate the features (X) and labels (y)\n",
        "X = df.drop(['Star rating\\n(1-5)', 'Name'], axis=1).values\n",
        "y = df['Star rating\\n(1-5)'].values"
      ],
      "metadata": {
        "id": "IL1AXNCTy0y9"
      },
      "execution_count": 5,
      "outputs": []
    },
    {
      "cell_type": "code",
      "source": [
        "# TODO: preprocessing if necessary\n",
        "X\n",
        "y\n"
      ],
      "metadata": {
        "id": "f0IVUAM3yvf4",
        "colab": {
          "base_uri": "https://localhost:8080/"
        },
        "outputId": "08aabd75-998d-48c4-cbea-afe41da3e9bb"
      },
      "execution_count": 6,
      "outputs": [
        {
          "output_type": "execute_result",
          "data": {
            "text/plain": [
              "array([4.5, 4.5, 4.3, 3.7, 3.8, 4.3, 3.9, 4. , 4.3, 4.2, 2.7, 4.2, 4.2,\n",
              "       4.2, 4.4, 4.3, 4.3, 4. , 4. , 3.9])"
            ]
          },
          "metadata": {},
          "execution_count": 6
        }
      ]
    },
    {
      "cell_type": "code",
      "source": [
        "# TODO: train-test split\n",
        "X_train, X_test, y_train, y_test = train_test_split(X, y, test_size=0.2, random_state=0)\n",
        "print(X_train.shape)\n",
        "print(X_test.shape)\n",
        "print(y_train.shape)\n",
        "print(y_test.shape)"
      ],
      "metadata": {
        "id": "2xjK2-eTy-Mk",
        "colab": {
          "base_uri": "https://localhost:8080/"
        },
        "outputId": "a0e29654-c800-44f1-8709-1bb8d1030673"
      },
      "execution_count": 7,
      "outputs": [
        {
          "output_type": "stream",
          "name": "stdout",
          "text": [
            "(16, 6)\n",
            "(4, 6)\n",
            "(16,)\n",
            "(4,)\n"
          ]
        }
      ]
    },
    {
      "cell_type": "markdown",
      "source": [
        "### Task 3: regression\n",
        "\n",
        "You need to first figure out which type of regression model can be used in this case. Then declare the corresponding regressor object, and fit your model with X_train and y_train."
      ],
      "metadata": {
        "id": "PdwCceAZzCbf"
      }
    },
    {
      "cell_type": "code",
      "source": [
        "# TODO: import the regressor from sklearn, declare the regressor object, and fit your model\n",
        "from sklearn.linear_model import LinearRegression\n",
        "regressor = LinearRegression()\n",
        "regressor.fit(X_train, y_train)\n",
        "\n",
        "\n"
      ],
      "metadata": {
        "id": "gGKYVkFMz7K9",
        "colab": {
          "base_uri": "https://localhost:8080/",
          "height": 75
        },
        "outputId": "32cb4a7f-6cb0-44f4-f4ea-c95b41a7d168"
      },
      "execution_count": 8,
      "outputs": [
        {
          "output_type": "execute_result",
          "data": {
            "text/plain": [
              "LinearRegression()"
            ],
            "text/html": [
              "<style>#sk-container-id-1 {color: black;background-color: white;}#sk-container-id-1 pre{padding: 0;}#sk-container-id-1 div.sk-toggleable {background-color: white;}#sk-container-id-1 label.sk-toggleable__label {cursor: pointer;display: block;width: 100%;margin-bottom: 0;padding: 0.3em;box-sizing: border-box;text-align: center;}#sk-container-id-1 label.sk-toggleable__label-arrow:before {content: \"▸\";float: left;margin-right: 0.25em;color: #696969;}#sk-container-id-1 label.sk-toggleable__label-arrow:hover:before {color: black;}#sk-container-id-1 div.sk-estimator:hover label.sk-toggleable__label-arrow:before {color: black;}#sk-container-id-1 div.sk-toggleable__content {max-height: 0;max-width: 0;overflow: hidden;text-align: left;background-color: #f0f8ff;}#sk-container-id-1 div.sk-toggleable__content pre {margin: 0.2em;color: black;border-radius: 0.25em;background-color: #f0f8ff;}#sk-container-id-1 input.sk-toggleable__control:checked~div.sk-toggleable__content {max-height: 200px;max-width: 100%;overflow: auto;}#sk-container-id-1 input.sk-toggleable__control:checked~label.sk-toggleable__label-arrow:before {content: \"▾\";}#sk-container-id-1 div.sk-estimator input.sk-toggleable__control:checked~label.sk-toggleable__label {background-color: #d4ebff;}#sk-container-id-1 div.sk-label input.sk-toggleable__control:checked~label.sk-toggleable__label {background-color: #d4ebff;}#sk-container-id-1 input.sk-hidden--visually {border: 0;clip: rect(1px 1px 1px 1px);clip: rect(1px, 1px, 1px, 1px);height: 1px;margin: -1px;overflow: hidden;padding: 0;position: absolute;width: 1px;}#sk-container-id-1 div.sk-estimator {font-family: monospace;background-color: #f0f8ff;border: 1px dotted black;border-radius: 0.25em;box-sizing: border-box;margin-bottom: 0.5em;}#sk-container-id-1 div.sk-estimator:hover {background-color: #d4ebff;}#sk-container-id-1 div.sk-parallel-item::after {content: \"\";width: 100%;border-bottom: 1px solid gray;flex-grow: 1;}#sk-container-id-1 div.sk-label:hover label.sk-toggleable__label {background-color: #d4ebff;}#sk-container-id-1 div.sk-serial::before {content: \"\";position: absolute;border-left: 1px solid gray;box-sizing: border-box;top: 0;bottom: 0;left: 50%;z-index: 0;}#sk-container-id-1 div.sk-serial {display: flex;flex-direction: column;align-items: center;background-color: white;padding-right: 0.2em;padding-left: 0.2em;position: relative;}#sk-container-id-1 div.sk-item {position: relative;z-index: 1;}#sk-container-id-1 div.sk-parallel {display: flex;align-items: stretch;justify-content: center;background-color: white;position: relative;}#sk-container-id-1 div.sk-item::before, #sk-container-id-1 div.sk-parallel-item::before {content: \"\";position: absolute;border-left: 1px solid gray;box-sizing: border-box;top: 0;bottom: 0;left: 50%;z-index: -1;}#sk-container-id-1 div.sk-parallel-item {display: flex;flex-direction: column;z-index: 1;position: relative;background-color: white;}#sk-container-id-1 div.sk-parallel-item:first-child::after {align-self: flex-end;width: 50%;}#sk-container-id-1 div.sk-parallel-item:last-child::after {align-self: flex-start;width: 50%;}#sk-container-id-1 div.sk-parallel-item:only-child::after {width: 0;}#sk-container-id-1 div.sk-dashed-wrapped {border: 1px dashed gray;margin: 0 0.4em 0.5em 0.4em;box-sizing: border-box;padding-bottom: 0.4em;background-color: white;}#sk-container-id-1 div.sk-label label {font-family: monospace;font-weight: bold;display: inline-block;line-height: 1.2em;}#sk-container-id-1 div.sk-label-container {text-align: center;}#sk-container-id-1 div.sk-container {/* jupyter's `normalize.less` sets `[hidden] { display: none; }` but bootstrap.min.css set `[hidden] { display: none !important; }` so we also need the `!important` here to be able to override the default hidden behavior on the sphinx rendered scikit-learn.org. See: https://github.com/scikit-learn/scikit-learn/issues/21755 */display: inline-block !important;position: relative;}#sk-container-id-1 div.sk-text-repr-fallback {display: none;}</style><div id=\"sk-container-id-1\" class=\"sk-top-container\"><div class=\"sk-text-repr-fallback\"><pre>LinearRegression()</pre><b>In a Jupyter environment, please rerun this cell to show the HTML representation or trust the notebook. <br />On GitHub, the HTML representation is unable to render, please try loading this page with nbviewer.org.</b></div><div class=\"sk-container\" hidden><div class=\"sk-item\"><div class=\"sk-estimator sk-toggleable\"><input class=\"sk-toggleable__control sk-hidden--visually\" id=\"sk-estimator-id-1\" type=\"checkbox\" checked><label for=\"sk-estimator-id-1\" class=\"sk-toggleable__label sk-toggleable__label-arrow\">LinearRegression</label><div class=\"sk-toggleable__content\"><pre>LinearRegression()</pre></div></div></div></div></div>"
            ]
          },
          "metadata": {},
          "execution_count": 8
        }
      ]
    },
    {
      "cell_type": "code",
      "source": [
        "print(regressor.coef_)\n",
        "print(regressor.intercept_)"
      ],
      "metadata": {
        "colab": {
          "base_uri": "https://localhost:8080/"
        },
        "id": "dIUVuyTX3i53",
        "outputId": "b371fd40-4f14-4c10-d920-1c6996db82c3"
      },
      "execution_count": 9,
      "outputs": [
        {
          "output_type": "stream",
          "name": "stdout",
          "text": [
            "[-1.78622792e-01  1.10653448e-01 -1.01973994e-01 -3.27614766e-02\n",
            "  1.44839103e-01  9.37526368e-05]\n",
            "4.457941389309402\n"
          ]
        }
      ]
    },
    {
      "cell_type": "markdown",
      "source": [
        "### Task 4: predictions\n",
        "\n",
        "Make predictions on the test set based on your model (you can try out multiple regressors and pick the one that gives the best reuslt)."
      ],
      "metadata": {
        "id": "GYqr7sg50Jne"
      }
    },
    {
      "cell_type": "code",
      "source": [
        "# TODO: ^\n",
        "y_pred = regressor.predict(X_test)\n",
        "print(y_pred[:4])\n"
      ],
      "metadata": {
        "id": "NkSUyLEI0slF",
        "colab": {
          "base_uri": "https://localhost:8080/"
        },
        "outputId": "b61a86ea-64f9-4324-f60e-f6563f6c40d8"
      },
      "execution_count": 10,
      "outputs": [
        {
          "output_type": "stream",
          "name": "stdout",
          "text": [
            "[4.24069515 4.13857187 4.09074509 4.11185237]\n"
          ]
        }
      ]
    },
    {
      "cell_type": "markdown",
      "source": [
        "### Task 5: visualization"
      ],
      "metadata": {
        "id": "rrhl-Xkq0WSr"
      }
    },
    {
      "cell_type": "code",
      "source": [
        "# TODO: plot y_test and y_pred to visualize the performance of your model\n",
        "import matplotlib.pyplot as plt\n",
        "plt.scatter(y_test, y_pred, color='cadetblue')\n",
        "plt.plot(np.linspace(min(y_test), max(y_test), 100), np.linspace(min(y_test), max(y_test), 100), color='peru')\n",
        "plt.title('Star Ratings Linear Regression')"
      ],
      "metadata": {
        "id": "XuETPl2C0w0C",
        "colab": {
          "base_uri": "https://localhost:8080/",
          "height": 470
        },
        "outputId": "f78a88da-9d2a-44bb-87ec-0958c4719368"
      },
      "execution_count": 11,
      "outputs": [
        {
          "output_type": "execute_result",
          "data": {
            "text/plain": [
              "Text(0.5, 1.0, 'Star Ratings Linear Regression')"
            ]
          },
          "metadata": {},
          "execution_count": 11
        },
        {
          "output_type": "display_data",
          "data": {
            "text/plain": [
              "<Figure size 640x480 with 1 Axes>"
            ],
            "image/png": "[encoded data removed]"
          },
          "metadata": {}
        }
      ]
    },
    {
      "cell_type": "markdown",
      "source": [
        "## [Part 2]  SVM for classifying spam emails\n",
        "\n",
        "In the provided data, the text emails have been pre-processed to ensure that only the email body and subject remain in the dataset; email addresses (EMAILADDR), web addresses (HTTPADDR), currency (DOLLAR) and numbers (NUMBER) were also replaced by the special tokens (features) to allow them to be considered properly in the classification process.\n",
        "\n",
        "We have done the feature extraction works for you, so you can just load the data matrices (called document-term matrices in text classification) which contain all the data. In a document-term matrix, the ith row represents the ith email, and the jth column represents the jth distinct token. Thus, the (i, j) entry of this matrix represents the number of occurrences of the jth token in the ith document.\n",
        "\n",
        "For this problem, we chose the set of tokens (vocabulary) to only contain the medium frequency tokens, as the tokens that occur too often or too rarely do not have much classification value. Also, terms were stemmed using a standard stemming algorithm; basically, this means that “price,” “prices” and “priced” have all been replaced with “price,” so that they can be treated as the same token."
      ],
      "metadata": {
        "id": "3oq6PlyC4y1Y"
      }
    },
    {
      "cell_type": "code",
      "source": [
        "import matplotlib.pyplot as plt\n",
        "from sklearn.svm import LinearSVC"
      ],
      "metadata": {
        "id": "VODeuTV1HrW0"
      },
      "execution_count": 12,
      "outputs": []
    },
    {
      "cell_type": "code",
      "source": [
        "# helper functions\n",
        "def readMatrix(filename: str):\n",
        "  with open(filename, 'r') as fd:\n",
        "      hdr = fd.readline()\n",
        "      rows, cols = [int(s) for s in fd.readline().strip().split()]\n",
        "      tokens = fd.readline().strip().split()\n",
        "      matrix = np.zeros((rows, cols))\n",
        "      Y = []\n",
        "      for i, line in enumerate(fd):\n",
        "          nums = [int(x) for x in line.strip().split()]\n",
        "          Y.append(nums[0])\n",
        "          kv = np.array(nums[1:])\n",
        "          k = np.cumsum(kv[:-1:2])\n",
        "          v = kv[1::2]\n",
        "          matrix[i, k] = v\n",
        "      return matrix, tokens, np.array(Y)\n",
        "\n",
        "\n",
        "def evaluate(output, label) -> float:\n",
        "  # Use the code below to obtain the accuracy of your algorithm\n",
        "  error = float((output != label).sum()) * 1. / len(output)\n",
        "  print('Error: {:2.4f}%'.format(100 * error))\n",
        "  return error"
      ],
      "metadata": {
        "id": "T0cJhXiRHw5n"
      },
      "execution_count": 13,
      "outputs": []
    },
    {
      "cell_type": "markdown",
      "source": [
        "### Task 1: simple implementation\n",
        "\n",
        "Repeat the first task, but with training sets of size ranging from 50, 100, 200, ..., up to 1400 by using the files MATRIX.TRAIN.*. Plot the test error vs. training set size in a curve. Also, report the numer of support vectors for each of the learned models and include this curve in the same plot."
      ],
      "metadata": {
        "id": "kSiZ8YPZ6DQQ"
      }
    },
    {
      "cell_type": "code",
      "source": [
        "# TODO: read train and test matrices to np arrays\n",
        "X_train, tokens, y_train = readMatrix('MATRIX.TRAIN.1400')\n",
        "X_test, _, y_test = readMatrix('MATRIX.TEST')"
      ],
      "metadata": {
        "id": "MValxGG56B3J"
      },
      "execution_count": 14,
      "outputs": []
    },
    {
      "cell_type": "code",
      "source": [
        "# TODO: fit classifier\n",
        "clf = LinearSVC(random_state=0)\n",
        "clf.fit(X_train, y_train)\n",
        "\n",
        "# TODO: test and evluate\n",
        "y_pred = clf.predict(X_test)\n",
        "test_error = evaluate(y_pred, y_test)\n",
        "len(clf.coef_)\n"
      ],
      "metadata": {
        "id": "KbyxL-ZSIAF2",
        "colab": {
          "base_uri": "https://localhost:8080/"
        },
        "outputId": "c7e44053-ede9-40db-c9a3-efd69b270414"
      },
      "execution_count": 15,
      "outputs": [
        {
          "output_type": "stream",
          "name": "stdout",
          "text": [
            "Error: 0.8750%\n"
          ]
        },
        {
          "output_type": "execute_result",
          "data": {
            "text/plain": [
              "1"
            ]
          },
          "metadata": {},
          "execution_count": 15
        }
      ]
    },
    {
      "cell_type": "markdown",
      "source": [
        "### Task 2: explore different training set sizes and visualization\n",
        "\n",
        "Repeat the first task, but with training sets of size ranging from 50, 100, 200, ..., up to 1400 by using the files MATRIX.TRAIN.*. Plot the test error vs. training set size in a curve. Also, report the numer of support vectors for rach of the learned models."
      ],
      "metadata": {
        "id": "xpnWEfiX7Muf"
      }
    },
    {
      "cell_type": "code",
      "source": [
        "# TODO: train the support vector classifier with datasets of difference sizes (see different files enclosed in the homework folder),\n",
        "#       get the test errors and report the number of support vectors for each case.\n",
        "train_sizes = [50, 100, 200, 400, 800, 1400]\n",
        "test_errors = []\n",
        "support_vectors = []\n",
        "\n",
        "for size in train_sizes:\n",
        "  X_train, tokens, y_train = readMatrix(f'MATRIX.TRAIN.{size}')\n",
        "  clf.fit(X_train, y_train)\n",
        "  y_pred = clf.predict(X_test)\n",
        "  test_errors.append(evaluate(y_pred, y_test))\n",
        "  support_vectors.append(len(clf.coef_))\n"
      ],
      "metadata": {
        "id": "SiQ_AklO7Ly-",
        "colab": {
          "base_uri": "https://localhost:8080/"
        },
        "outputId": "6448ec15-4ebf-40c1-dac0-326617362555"
      },
      "execution_count": 16,
      "outputs": [
        {
          "output_type": "stream",
          "name": "stdout",
          "text": [
            "Error: 5.0000%\n",
            "Error: 3.0000%\n",
            "Error: 1.2500%\n",
            "Error: 1.0000%\n",
            "Error: 1.0000%\n",
            "Error: 0.8750%\n"
          ]
        }
      ]
    },
    {
      "cell_type": "code",
      "source": [
        "# TODO: plot the test error vs. training set size and # support vectors vs. training set size\n",
        "plt.figure(figsize=(10, 5))\n",
        "plt.subplot(1, 2, 1)\n",
        "plt.plot(train_sizes, test_errors)\n",
        "plt.title('test error vs. training set size')\n",
        "plt.xlabel('training set size')\n",
        "plt.ylabel('test error')\n",
        "plt.subplot(1, 2, 2)\n",
        "plt.plot(train_sizes, support_vectors)\n",
        "plt.title('# support vectors vs. training set size')\n",
        "plt.xlabel('training set size')\n",
        "plt.ylabel('# support vectors')"
      ],
      "metadata": {
        "id": "4bQezb8fISJe",
        "colab": {
          "base_uri": "https://localhost:8080/",
          "height": 505
        },
        "outputId": "4b77dd3c-4987-44db-b297-2a02296ffae9"
      },
      "execution_count": 17,
      "outputs": [
        {
          "output_type": "execute_result",
          "data": {
            "text/plain": [
              "Text(0, 0.5, '# support vectors')"
            ]
          },
          "metadata": {},
          "execution_count": 17
        },
        {
          "output_type": "display_data",
          "data": {
            "text/plain": [
              "<Figure size 1000x500 with 2 Axes>"
            ],
            "image/png": "[encoded data removed]"
          },
          "metadata": {}
        }
      ]
    }
  ]
}