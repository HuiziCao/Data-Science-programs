{
  "nbformat": 4,
  "nbformat_minor": 0,
  "metadata": {
    "colab": {
      "provenance": [],
      "toc_visible": true
    },
    "kernelspec": {
      "name": "python3",
      "display_name": "Python 3"
    },
    "language_info": {
      "name": "python"
    }
  },
  "cells": [
    {
      "cell_type": "markdown",
      "source": [
        "## Part 1: Flight Tickets API Exploration\n",
        "APIs, which stands for Application Programming Interfaces, are powerful tools that facilitate communication and interaction between different software applications. They act as intermediaries, allowing developers to access and use data or functionality from other systems without starting from scratch. Essentially, APIs provide a standardized way for applications to seamlessly exchange information.\n",
        "\n",
        "Accessing API data is another one of the means to acquire information from web pages. In the project, we will use the Kayak API website and extract the flight data required."
      ],
      "metadata": {
        "id": "1qL5DplGx02o"
      }
    },
    {
      "cell_type": "markdown",
      "source": [
        "**Step 1:** Issue a request to the Kayak explore API page."
      ],
      "metadata": {
        "id": "8fkp9CpD0Z8a"
      }
    },
    {
      "cell_type": "code",
      "source": [
        "import requests\n",
        "from requests.exceptions import HTTPError\n",
        "\n",
        "import pandas as pd\n",
        "import seaborn as sns"
      ],
      "metadata": {
        "id": "UO7UBe8k0T3f"
      },
      "execution_count": 1,
      "outputs": []
    },
    {
      "cell_type": "code",
      "source": [
        "# Specify the departure airport: LAX\n",
        "airport = \"LAX\"\n",
        "# TODO: specify the departure and returning dates (YYYY-MM-DD) in strings as follows\n",
        "dep = \"2024-08-08\"\n",
        "ret = \"2024-08-18\""
      ],
      "metadata": {
        "id": "FQPfsH0M1mUB"
      },
      "execution_count": 2,
      "outputs": []
    },
    {
      "cell_type": "code",
      "source": [
        "url = \"https://www.kayak.com/s/horizon/exploreapi/destinations?airport=\" + airport + \"&bugget=&depart=\" \\\n",
        "      + dep + \"&return=\" + ret + \"&tripdurationrange=4%2C7&duration=&flightMaxStops=&stopsFilterActive=false&topRightLat=&topRightLon=&bottomLeftLat=&bottomLeftLon=&zoomLevel=5&selectedMarker=&themeCode=&selectedDestination=\""
      ],
      "metadata": {
        "id": "T856y6MJ1Y0Q"
      },
      "execution_count": 3,
      "outputs": []
    },
    {
      "cell_type": "code",
      "source": [
        "# TODO: get the response from the url you specified\n",
        "# Hint: use the try-except block to gracefully handle error status if there is any!\n",
        "try:\n",
        "  response = requests.get(url)\n",
        "  response.raise_for_status()\n",
        "except HTTPError as http_err:\n",
        "  print(\"HTTP error occurred: {}\".format(http_err))\n",
        "except Exception as err:\n",
        "  print(\"Other error occurred: {}\".format(err))\n",
        "else:\n",
        "  print(\"Success!\")\n",
        "\n"
      ],
      "metadata": {
        "id": "14U4qm5R1L1b",
        "colab": {
          "base_uri": "https://localhost:8080/"
        },
        "outputId": "20f45a37-6d23-4f3d-d3c2-d7e55fdfeabf"
      },
      "execution_count": 4,
      "outputs": [
        {
          "output_type": "stream",
          "name": "stdout",
          "text": [
            "Success!\n"
          ]
        }
      ]
    },
    {
      "cell_type": "code",
      "source": [
        "# Convert the response information to a dictionary type\n",
        "tickets_dict = response.json()\n",
        "# Inspect the keys of the resulting dictionary\n",
        "dests = tickets_dict['destinations']"
      ],
      "metadata": {
        "id": "p_PaNDAd3_7a"
      },
      "execution_count": 5,
      "outputs": []
    },
    {
      "cell_type": "code",
      "source": [
        "dests = tickets_dict['destinations']"
      ],
      "metadata": {
        "id": "cZYo1-tT7qZX"
      },
      "execution_count": 6,
      "outputs": []
    },
    {
      "cell_type": "markdown",
      "source": [
        "Step 2: Initialize a dictionary to store the scraped data."
      ],
      "metadata": {
        "id": "ybIT7JR76Lva"
      }
    },
    {
      "cell_type": "code",
      "source": [
        "# TODO: start by establishing a dictionary, with the following keys -\n",
        "# 'destination_city', 'relevancy_score', 'airline', 'price', 'duration', 'stop'\n",
        "# each of these keys will map to a value of list type\n",
        "result_dict = {\n",
        "    'destination_city': [],\n",
        "    'relevancy_score': [],\n",
        "    'airline': [],\n",
        "    'price': [],\n",
        "    'duration': [],\n",
        "    'stop': []\n",
        "}\n"
      ],
      "metadata": {
        "id": "CU93yWrD6Uav"
      },
      "execution_count": 7,
      "outputs": []
    },
    {
      "cell_type": "markdown",
      "source": [
        "**Step 3:** Get all destination city names and relavancy score from `dests`, and store them into `result_dict`."
      ],
      "metadata": {
        "id": "oNQV-Yq72_il"
      }
    },
    {
      "cell_type": "code",
      "source": [
        "# TODO: as described above, append all the resulting city names to result_dict['destination_city']\n",
        "for dest in dests:\n",
        "  result_dict['destination_city'].append(dest['city'])\n",
        "  result_dict['relevancy_score'].append(dest['relevancyScore'])\n"
      ],
      "metadata": {
        "id": "_af8k-UX34oN"
      },
      "execution_count": 8,
      "outputs": []
    },
    {
      "cell_type": "markdown",
      "source": [
        "**Step 4:** Get the airline name from `dests`, and store them into `result_dict`."
      ],
      "metadata": {
        "id": "0906Nh7H5ziA"
      }
    },
    {
      "cell_type": "code",
      "source": [
        "# TODO: ^\n",
        "for dest in dests:\n",
        "  if 'airline' in dest and dest['airline']:\n",
        "    result_dict['airline'].append(dest['airline'])\n",
        "  else:\n",
        "    result_dict['airline'].append(None)\n"
      ],
      "metadata": {
        "id": "bvgMmJEZ7x7W"
      },
      "execution_count": 9,
      "outputs": []
    },
    {
      "cell_type": "markdown",
      "source": [
        "**Step 5:** Get the ticket price, flight max duration, and flight max stops from `dests`, and store them into corresponding entries of `result_dict`."
      ],
      "metadata": {
        "id": "gysxdPbn70Sc"
      }
    },
    {
      "cell_type": "code",
      "source": [
        "# TODO: ^\n",
        "for dest in dests:\n",
        "  result_dict['price'].append(dest['flightInfo'].get('price', None))\n",
        "  result_dict['duration'].append(dest.get('flightMaxDuration', None))\n",
        "  result_dict['stop'].append(dest.get('flightMaxStops', None))\n"
      ],
      "metadata": {
        "id": "IsSbrlnj8D6a"
      },
      "execution_count": 10,
      "outputs": []
    },
    {
      "cell_type": "markdown",
      "source": [
        "**Step 6:** Plot the flight information with Seaborn relplot, use x axis for flight duration, y axis for ticket price, and use dot size to represent the number of stops over the flight."
      ],
      "metadata": {
        "id": "bJ1eaPenHM-X"
      }
    },
    {
      "cell_type": "code",
      "source": [
        "# TODO: construct a dataframe from the dictionary you've just constracted\n",
        "\n",
        "# we need to have a standard length for creating dataframe, we can make others keep the same form as the min one\n",
        "standard_length = min(len(result_dict['destination_city']), len(result_dict['relevancy_score']), len(result_dict['airline']), len(result_dict['price']), len(result_dict['duration']), len(result_dict['stop']))\n",
        "\n",
        "for key in result_dict.keys():\n",
        "  result_dict[key] = result_dict[key][:standard_length]\n",
        "\n",
        "df = pd.DataFrame(result_dict)\n",
        "df = df.dropna(subset=['price', 'duration', 'stop'])"
      ],
      "metadata": {
        "id": "gvV-7WJkI3sc"
      },
      "execution_count": 11,
      "outputs": []
    },
    {
      "cell_type": "code",
      "source": [
        "# TODO: sort the flights by their relavancy scores in-place by descending order\n",
        "df.sort_values(by='relevancy_score', ascending=False, inplace=True)\n"
      ],
      "metadata": {
        "id": "FGdeLLhdKMAh"
      },
      "execution_count": 12,
      "outputs": []
    },
    {
      "cell_type": "code",
      "source": [
        "# TODO: for flights with the top 100 relavancy scores, plot the flight information as specified\n",
        "flights_top_100 = df.head(100)\n",
        "\n",
        "import matplotlib.pyplot as plt\n",
        "sns.set_theme()\n",
        "\n",
        "sns.relplot(\n",
        "    data=flights_top_100,\n",
        "    x='duration', y='price', size='stop'\n",
        ")\n",
        "\n",
        "plt.title('Information Of Flights With The Top 100 Relavancy Scores')\n",
        "\n"
      ],
      "metadata": {
        "id": "8Eeaqkt4I309",
        "colab": {
          "base_uri": "https://localhost:8080/",
          "height": 541
        },
        "outputId": "86016282-474b-4f6a-d17a-df15d575af96"
      },
      "execution_count": 13,
      "outputs": [
        {
          "output_type": "execute_result",
          "data": {
            "text/plain": [
              "Text(0.5, 1.0, 'Information Of Flights With The Top 100 Relavancy Scores')"
            ]
          },
          "metadata": {},
          "execution_count": 13
        },
        {
          "output_type": "display_data",
          "data": {
            "text/plain": [
              "<Figure size 564.625x500 with 1 Axes>"
            ],
            "image/png": "[encoded data removed]"
          },
          "metadata": {}
        }
      ]
    },
    {
      "cell_type": "markdown",
      "source": [
        "## Part 2: Barnes & Noble Best Selling Books\n",
        "\n",
        "In this part, we'll inspect Barnes & Noble's website to fetch the information about the top 20 best selling books of the store. The overall process will be a lot similar to what has been demonstrated in the class."
      ],
      "metadata": {
        "id": "cRu0EQl5yBHY"
      }
    },
    {
      "cell_type": "code",
      "source": [
        "from bs4 import BeautifulSoup"
      ],
      "metadata": {
        "id": "llLez9Ab9HFX"
      },
      "execution_count": 14,
      "outputs": []
    },
    {
      "cell_type": "code",
      "source": [
        "url = \"https://www.barnesandnoble.com/b/books/_/N-1fZ29Z8q8\""
      ],
      "metadata": {
        "id": "JzlsUg2L88KI"
      },
      "execution_count": 15,
      "outputs": []
    },
    {
      "cell_type": "markdown",
      "source": [
        "**Step 1:** Get response from url"
      ],
      "metadata": {
        "id": "scd2c7DaARRY"
      }
    },
    {
      "cell_type": "code",
      "source": [
        "# TODO: get response from url with the requests library\n",
        "\n",
        "try:\n",
        "  kv = {\"user-agent\": \"Chrome/119.0.6045.212\"}\n",
        "  response = requests.get(url, headers = kv)\n",
        "  response.raise_for_status()\n",
        "except HTTPError as http_err:\n",
        "  print(\"HTTP error occurred: {}\".format(http_err))\n",
        "except Exception as err:\n",
        "  print(\"Other error occurred: {}\".format(err))\n",
        "else:\n",
        "  print(\"Success!\")\n",
        "\n"
      ],
      "metadata": {
        "id": "GpxCSq1p9Jf8",
        "colab": {
          "base_uri": "https://localhost:8080/"
        },
        "outputId": "bc395525-d626-44fc-bda5-e4a2f52c0212"
      },
      "execution_count": 17,
      "outputs": [
        {
          "output_type": "stream",
          "name": "stdout",
          "text": [
            "Success!\n"
          ]
        }
      ]
    },
    {
      "cell_type": "markdown",
      "source": [
        "**Step 2:** Create a BeautifulSoup object, and inspect the html source of the target website."
      ],
      "metadata": {
        "id": "2EMMhiQYApnO"
      }
    },
    {
      "cell_type": "code",
      "source": [
        "# TODO: create a beautiful soup object from the response you get\n",
        "soup = BeautifulSoup(response.content, \"html.parser\")\n",
        "# print(soup.prettify())\n"
      ],
      "metadata": {
        "id": "D9F8cyU-9XbZ"
      },
      "execution_count": 18,
      "outputs": []
    },
    {
      "cell_type": "markdown",
      "source": [
        "**Step 3:** Based on the pattern that you have found, extract all contents (tag segments) under the tag or class you've figured out based on the html source. Remember that you could always inspect the parent of the current tag by visiting `.parent`!"
      ],
      "metadata": {
        "id": "nOuETkBmDBWN"
      }
    },
    {
      "cell_type": "code",
      "source": [
        "# TODO: ^\n",
        "book_elements = soup.find_all(\"li\", class_=\"pb-s mt-m bd-bottom-disabled-gray record list-view-data\")\n"
      ],
      "metadata": {
        "id": "lIMZVQhg9azA"
      },
      "execution_count": 19,
      "outputs": []
    },
    {
      "cell_type": "markdown",
      "source": [
        "**Step 4:** Fetch the book information (name and price) from the scraped content."
      ],
      "metadata": {
        "id": "0OP9XVyGDpn8"
      }
    },
    {
      "cell_type": "code",
      "source": [
        "# TODO: use a for loop, get the book information from the html content you've scraped\n",
        "# store the information into an organized data structure\n",
        "books = []\n",
        "\n",
        "for idx, book_element in enumerate(book_elements[:20]):\n",
        "  rank = idx + 1\n",
        "\n",
        "  title_element = book_element.find(\"h3\", class_=\"product-info-title\")\n",
        "  title = title_element.find(\"a\").text.strip() if title_element else \"N/A\"\n",
        "\n",
        "  price_element = book_element.find(\"span\", class_=\"current\")\n",
        "  price = price_element.text.strip().strip('$') if price_element else \"N/A\"\n",
        "\n",
        "  author_element = book_element.find(\"div\", class_=\"product-shelf-author\")\n",
        "  author = author_element.find(\"a\").text.strip() if author_element else \"N/A\"\n",
        "\n",
        "  format_element = book_element.find(\"td\", class_=\"format\")\n",
        "  format_ = format_element.find(\"a\").text.strip() if format_element else \"N/A\"\n",
        "\n",
        "  date_element = title_element.find(\"span\", class_=\"text--small publ-date\")\n",
        "  date = date_element.text.strip().strip('()') if date_element else \"N/A\"\n",
        "\n",
        "  print(rank, title, author, price, format_, date)\n",
        "  element_array = [rank, title, author, price, format_, date]\n",
        "  books.append(element_array)\n",
        "\n",
        "\n",
        "# Create the pandas DataFrame\n",
        "df = pd.DataFrame(books, columns=[\"Rank\", \"Title\", \"Author\", \"Price\", \"Format\", \"Date\"])\n",
        "# Check the DataFrame\n",
        "print(df.head())"
      ],
      "metadata": {
        "id": "7J1JOzDa-3kf",
        "colab": {
          "base_uri": "https://localhost:8080/"
        },
        "outputId": "7105bb19-a598-4e20-e1f9-1d50e6a95fa3"
      },
      "execution_count": 20,
      "outputs": [
        {
          "output_type": "stream",
          "name": "stdout",
          "text": [
            "1 Reckless (B&N Exclusive Edition) Lauren Roberts 21.99 Hardcover 07/02/2024\n",
            "2 Hooked Emily McIntire 17.99 Paperback 09/07/2021\n",
            "3 Fearless (B&N Exclusive Edition) Lauren Roberts 21.99 Hardcover 04/08/2025\n",
            "4 The Book of Bill (B&N Exclusive Edition) Alex Hirsch 26.99 Hardcover 07/23/2024\n",
            "5 Onyx Storm (Deluxe Limited Edition) Rebecca Yarros 32.99 Hardcover 01/21/2025\n",
            "6 The God of the Woods (Barnes & Noble Book Club Edition) Liz Moore 27.00 Hardcover 07/02/2024\n",
            "7 Hunger Games 4-Book Paperback Boxed Set Deluxe Edition (The Hunger Games, Catching Fire, Mockingjay, The Ballad of Songbirds and Snakes) Suzanne Collins 54.36 Paperback 02/04/2025\n",
            "8 Dragonfall (B&N Exclusive Edition) L. R. Lam 18.00 Paperback 06/25/2024\n",
            "9 Apprentice to the Villain (B&N Exclusive Edition) Hannah Nicole Maehrer 19.99 Paperback 08/06/2024\n",
            "10 One Dark Window Rachel Gillig 18.99 Paperback 09/27/2022\n",
            "11 Two Twisted Crowns Rachel Gillig 17.09 Paperback 10/17/2023\n",
            "12 Days at the Morisaki Bookshop: A Novel Satoshi Yagisawa 16.99 Paperback 07/04/2023\n",
            "13 Powerful: A Powerless Story (B&N Exclusive Edition) Lauren Roberts 14.99 Hardcover 04/30/2024\n",
            "14 The Art Thief: A True Story of Love, Crime, and a Dangerous Obsession (B&N Exclusive Edition) Michael Finkel 18.00 Paperback 06/25/2024\n",
            "15 Skyshade (B&N Exclusive Edition) (The Lightlark Saga Book 3) Alex Aster 22.99 Hardcover 11/12/2024\n",
            "16 Tomorrow, and Tomorrow, and Tomorrow (B&N Exclusive Edition) Gabrielle Zevin 19.00 Paperback 06/25/2024\n",
            "17 More Days at the Morisaki Bookshop: A Novel Satoshi Yagisawa 17.99 Paperback 07/02/2024\n",
            "18 The Backyard Bird Chronicles Amy Tan 31.50 Hardcover 04/23/2024\n",
            "19 Ask Not: The Kennedys and the Women They Destroyed Maureen Callahan 32.50 Hardcover 07/02/2024\n",
            "20 Sunrise on the Reaping (A Hunger Games Novel) Suzanne Collins 22.39 Hardcover 03/18/2025\n",
            "   Rank                                     Title          Author  Price  \\\n",
            "0     1          Reckless (B&N Exclusive Edition)  Lauren Roberts  21.99   \n",
            "1     2                                    Hooked  Emily McIntire  17.99   \n",
            "2     3          Fearless (B&N Exclusive Edition)  Lauren Roberts  21.99   \n",
            "3     4  The Book of Bill (B&N Exclusive Edition)     Alex Hirsch  26.99   \n",
            "4     5       Onyx Storm (Deluxe Limited Edition)  Rebecca Yarros  32.99   \n",
            "\n",
            "      Format        Date  \n",
            "0  Hardcover  07/02/2024  \n",
            "1  Paperback  09/07/2021  \n",
            "2  Hardcover  04/08/2025  \n",
            "3  Hardcover  07/23/2024  \n",
            "4  Hardcover  01/21/2025  \n"
          ]
        }
      ]
    }
  ]
}